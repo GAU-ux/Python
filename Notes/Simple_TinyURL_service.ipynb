{
  "nbformat": 4,
  "nbformat_minor": 0,
  "metadata": {
    "celltoolbar": "Slideshow",
    "kernelspec": {
      "display_name": "Python 3",
      "language": "python",
      "name": "python3"
    },
    "language_info": {
      "codemirror_mode": {
        "name": "ipython",
        "version": 3
      },
      "file_extension": ".py",
      "mimetype": "text/x-python",
      "name": "python",
      "nbconvert_exporter": "python",
      "pygments_lexer": "ipython3",
      "version": "3.7.3"
    },
    "colab": {
      "provenance": []
    }
  },
  "cells": [
    {
      "cell_type": "markdown",
      "metadata": {
        "id": "MITKyKlJcXA3"
      },
      "source": [
        "#### Q. How would you build a TinyURL service? [https://tinyurl.com/]\n",
        "- Popular interview question"
      ]
    },
    {
      "cell_type": "markdown",
      "metadata": {
        "id": "4KwAd_VacXA4"
      },
      "source": [
        "Dict/Hashtable has <K,V> pairs\n",
        "\n",
        "Key = short-URL\n",
        "Value = Long-URL\n",
        "\n",
        "Key: random variable length alphabetic suffix [tinyurl.com/tgwxyc]\n"
      ]
    },
    {
      "cell_type": "code",
      "metadata": {
        "id": "d7P20q6BcXA5"
      },
      "source": [
        "import random\n",
        "import string\n",
        "\n",
        "d = {};\n",
        "\n",
        "# given a long URL, get a short URL\n",
        "def getShortURL(longURL):\n",
        "    # length = random value in 6-10\n",
        "    l = random.randint(6,10);\n",
        "    print(l);\n",
        "    \n",
        "    # generate random characters into a string of length l\n",
        "    chars = string.ascii_lowercase\n",
        "    shortURL = ''.join(random.choice(chars) for i in range(l))\n",
        "    print(shortURL);\n",
        "    \n",
        "    # check if this string is already present in dict d\n",
        "    if shortURL in d:\n",
        "        return getShortURL(longURL);\n",
        "    else:\n",
        "        d[shortURL] = longURL;\n",
        "        \n",
        "    print(d)\n",
        "    r = \"https://www.shortURL.com/\"+shortURL\n",
        "    return r;\n",
        "\n"
      ],
      "execution_count": null,
      "outputs": []
    },
    {
      "cell_type": "code",
      "metadata": {
        "id": "YS2zMuI9cXA6",
        "outputId": "1873333a-0d0a-41f5-e7dc-3ab9300eb324"
      },
      "source": [
        "print(getShortURL(\"www.appliedaicourse.com\"))"
      ],
      "execution_count": null,
      "outputs": [
        {
          "output_type": "stream",
          "text": [
            "8\n",
            "iftgtrsu\n",
            "{'iftgtrsu': 'www.appliedaicourse.com'}\n",
            "https://www.shortURL.com/iftgtrsu\n"
          ],
          "name": "stdout"
        }
      ]
    },
    {
      "cell_type": "code",
      "metadata": {
        "id": "Oh2YAGmDcXA7",
        "outputId": "0add9aaf-1c32-400c-869b-17f4128a1006"
      },
      "source": [
        "print(getShortURL(\"www.appliedaicourse.com\"))"
      ],
      "execution_count": null,
      "outputs": [
        {
          "output_type": "stream",
          "text": [
            "7\n",
            "mxzmuis\n",
            "{'iftgtrsu': 'www.appliedaicourse.com', 'mxzmuis': 'www.appliedaicourse.com'}\n",
            "https://www.shortURL.com/mxzmuis\n"
          ],
          "name": "stdout"
        }
      ]
    },
    {
      "cell_type": "code",
      "metadata": {
        "id": "vpj_lru8cXBA"
      },
      "source": [
        "def getLongURL(shortURL):\n",
        "    \n",
        "    # extarct key from URL https://www.shortURL.com/mxzmuis ---> mxzmuis\n",
        "    k = shortURL[25:];\n",
        "    print(k)\n",
        "    \n",
        "    return d[k];\n"
      ],
      "execution_count": null,
      "outputs": []
    },
    {
      "cell_type": "code",
      "metadata": {
        "id": "neoVkGU6cXBB",
        "outputId": "c887a2d7-44c3-4bf4-fdfb-8258a6743f74"
      },
      "source": [
        "print(getLongURL(\"https://www.shortURL.com/mxzmuis\"))\n"
      ],
      "execution_count": null,
      "outputs": [
        {
          "output_type": "stream",
          "text": [
            "mxzmuis\n",
            "www.appliedaicourse.com\n"
          ],
          "name": "stdout"
        }
      ]
    },
    {
      "cell_type": "code",
      "metadata": {
        "id": "7bS251jrcXBD",
        "outputId": "a5ef5109-d8ce-4763-b4fb-5974947f9388"
      },
      "source": [
        "print(getLongURL(\"https://www.shortURL.com/abcdef\"))"
      ],
      "execution_count": null,
      "outputs": [
        {
          "output_type": "stream",
          "text": [
            "abcdef\n"
          ],
          "name": "stdout"
        },
        {
          "output_type": "error",
          "ename": "KeyError",
          "evalue": "'abcdef'",
          "traceback": [
            "\u001b[0;31m---------------------------------------------------------------------------\u001b[0m",
            "\u001b[0;31mKeyError\u001b[0m                                  Traceback (most recent call last)",
            "\u001b[0;32m<ipython-input-193-a1641eeac07b>\u001b[0m in \u001b[0;36m<module>\u001b[0;34m\u001b[0m\n\u001b[0;32m----> 1\u001b[0;31m \u001b[0mprint\u001b[0m\u001b[0;34m(\u001b[0m\u001b[0mgetLongURL\u001b[0m\u001b[0;34m(\u001b[0m\u001b[0;34m\"https://www.shortURL.com/abcdef\"\u001b[0m\u001b[0;34m)\u001b[0m\u001b[0;34m)\u001b[0m\u001b[0;34m\u001b[0m\u001b[0;34m\u001b[0m\u001b[0m\n\u001b[0m",
            "\u001b[0;32m<ipython-input-191-049da4c13feb>\u001b[0m in \u001b[0;36mgetLongURL\u001b[0;34m(shortURL)\u001b[0m\n\u001b[1;32m      5\u001b[0m     \u001b[0mprint\u001b[0m\u001b[0;34m(\u001b[0m\u001b[0mk\u001b[0m\u001b[0;34m)\u001b[0m\u001b[0;34m\u001b[0m\u001b[0;34m\u001b[0m\u001b[0m\n\u001b[1;32m      6\u001b[0m \u001b[0;34m\u001b[0m\u001b[0m\n\u001b[0;32m----> 7\u001b[0;31m     \u001b[0;32mreturn\u001b[0m \u001b[0md\u001b[0m\u001b[0;34m[\u001b[0m\u001b[0mk\u001b[0m\u001b[0;34m]\u001b[0m\u001b[0;34m;\u001b[0m\u001b[0;34m\u001b[0m\u001b[0;34m\u001b[0m\u001b[0m\n\u001b[0m",
            "\u001b[0;31mKeyError\u001b[0m: 'abcdef'"
          ]
        }
      ]
    },
    {
      "cell_type": "code",
      "metadata": {
        "id": "w_TtsDyTcXBE"
      },
      "source": [
        "# Handle Errors and return None\n",
        "\n",
        "def getLongURL(shortURL):\n",
        "    \n",
        "    # extarct key from URL https://www.shortURL.com/mxzmuis ---> mxzmuis\n",
        "    k = shortURL[25:];\n",
        "    print(k)\n",
        "    \n",
        "    if k in d:\n",
        "        return d[k];\n",
        "    else:\n",
        "        return None;"
      ],
      "execution_count": null,
      "outputs": []
    },
    {
      "cell_type": "code",
      "metadata": {
        "id": "130FDFAAcXBF",
        "outputId": "930a22e9-9a7d-4cb3-9969-a456a84503d7"
      },
      "source": [
        "print(getLongURL(\"https://www.shortURL.com/abcdef\"))"
      ],
      "execution_count": null,
      "outputs": [
        {
          "output_type": "stream",
          "text": [
            "abcdef\n",
            "None\n"
          ],
          "name": "stdout"
        }
      ]
    },
    {
      "cell_type": "code",
      "metadata": {
        "id": "5L2OSS3PcXBG",
        "outputId": "c06955b3-140d-416b-e49e-a0b044365645"
      },
      "source": [
        "print(getLongURL(\"https://www.shortURL.com/mxzmuis\"))\n"
      ],
      "execution_count": null,
      "outputs": [
        {
          "output_type": "stream",
          "text": [
            "mxzmuis\n",
            "www.appliedaicourse.com\n"
          ],
          "name": "stdout"
        }
      ]
    },
    {
      "cell_type": "markdown",
      "metadata": {
        "id": "5XjHsH3FcXBG"
      },
      "source": [
        "#### IDEA: We have dict 'd' and these two functions(getShortURL, getLongURL ) that opearete on 'd'. Why not put all these three in a single logical block?\n",
        "- That's where \"Classes\" come in!  Next session: Basics of OOP in Python (for ML)\n",
        "- We will build a ShortURL class."
      ]
    }
  ]
}