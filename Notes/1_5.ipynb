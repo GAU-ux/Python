{
  "nbformat": 4,
  "nbformat_minor": 0,
  "metadata": {
    "kernelspec": {
      "display_name": "Python 2",
      "language": "python",
      "name": "python2"
    },
    "language_info": {
      "codemirror_mode": {
        "name": "ipython",
        "version": 2
      },
      "file_extension": ".py",
      "mimetype": "text/x-python",
      "name": "python",
      "nbconvert_exporter": "python",
      "pygments_lexer": "ipython2",
      "version": "2.7.10"
    },
    "colab": {
      "provenance": []
    }
  },
  "cells": [
    {
      "cell_type": "markdown",
      "metadata": {
        "id": "tCYSjLCr9Eak"
      },
      "source": [
        "# Python Input and Output"
      ]
    },
    {
      "cell_type": "markdown",
      "metadata": {
        "id": "XSygB-No9Eax"
      },
      "source": [
        "# Python Output"
      ]
    },
    {
      "cell_type": "markdown",
      "metadata": {
        "id": "dyMS3pa59Eay"
      },
      "source": [
        "We use the print() function to output data to the standard output device"
      ]
    },
    {
      "cell_type": "code",
      "metadata": {
        "id": "xqp8xuye9Eaz",
        "outputId": "d0dadda7-699e-477d-c7a9-069b5df86573"
      },
      "source": [
        "print(\"Hello World\")"
      ],
      "execution_count": null,
      "outputs": [
        {
          "name": "stdout",
          "output_type": "stream",
          "text": [
            "Hello World\n"
          ]
        }
      ]
    },
    {
      "cell_type": "code",
      "metadata": {
        "id": "_VWp6SVJ9Ea4",
        "outputId": "a9d19831-6a01-4234-c9e4-ad92214ded21"
      },
      "source": [
        "a = 10\n",
        "print(\"The value of a is\", a) #python 3\n",
        "print \"The value of a is \" + str(a)"
      ],
      "execution_count": null,
      "outputs": [
        {
          "name": "stdout",
          "output_type": "stream",
          "text": [
            "('The value of a is', 10)\n",
            "The value of a is 10\n"
          ]
        }
      ]
    },
    {
      "cell_type": "markdown",
      "metadata": {
        "id": "dSLnwLrH9Ea6"
      },
      "source": [
        "# Output Formatting"
      ]
    },
    {
      "cell_type": "code",
      "metadata": {
        "id": "PxFdQNax9Ea7",
        "outputId": "345c3a79-c195-40b1-c29c-caa3f8020e94"
      },
      "source": [
        "a = 10; b = 20 #multiple statements in single line.\n",
        "\n",
        "print(\"The value of a is {} and b is {}\".format(a, b))    #default"
      ],
      "execution_count": null,
      "outputs": [
        {
          "name": "stdout",
          "output_type": "stream",
          "text": [
            "The value of a is 10 and b is 20\n"
          ]
        }
      ]
    },
    {
      "cell_type": "code",
      "metadata": {
        "id": "5zE1AZOK9Ea9",
        "outputId": "6e52dc0b-502b-4cc9-d09e-ea75014bc3b1"
      },
      "source": [
        "a = 10; b = 20  #multiple statements in single line\n",
        "\n",
        "print(\"The value of b is {1} and a is {0}\".format(a, b)) #specify position of arguments"
      ],
      "execution_count": null,
      "outputs": [
        {
          "name": "stdout",
          "output_type": "stream",
          "text": [
            "The value of b is 20 and a is 10\n"
          ]
        }
      ]
    },
    {
      "cell_type": "code",
      "metadata": {
        "id": "oMJbkVJD9Ea_",
        "outputId": "34ca31bb-b468-43be-d1e4-5adeb1d3ef5d"
      },
      "source": [
        "#we can use keyword arguments to format the string\n",
        "print(\"Hello {name}, {greeting}\".format(name=\"satish\", greeting=\"Good Morning\"))"
      ],
      "execution_count": null,
      "outputs": [
        {
          "name": "stdout",
          "output_type": "stream",
          "text": [
            "Hello satish, Good Morning\n"
          ]
        }
      ]
    },
    {
      "cell_type": "code",
      "metadata": {
        "id": "Ft3hcfY99EbA",
        "outputId": "3072d817-fb2c-4588-ff01-a19d7153c0ad"
      },
      "source": [
        "#we can combine positional arguments with keyword arguments\n",
        "print('The story of {0}, {1}, and {other}'.format('Bill', 'Manfred',\n",
        "                                                       other='Georg'))"
      ],
      "execution_count": null,
      "outputs": [
        {
          "name": "stdout",
          "output_type": "stream",
          "text": [
            "The story of Bill, Manfred, and Georg\n"
          ]
        }
      ]
    },
    {
      "cell_type": "markdown",
      "metadata": {
        "id": "bPMBhIs29EbC"
      },
      "source": [
        "# Python Input"
      ]
    },
    {
      "cell_type": "markdown",
      "metadata": {
        "id": "iGHbPbgs9EbD"
      },
      "source": [
        "want to take the input from the user. In Python, we have the input() function to allow this. "
      ]
    },
    {
      "cell_type": "code",
      "metadata": {
        "id": "93uofGf69EbD",
        "outputId": "8234fb22-9e74-4b66-da46-ce8d4a642555"
      },
      "source": [
        "num = input(\"Enter a number: \")\n",
        "print num"
      ],
      "execution_count": null,
      "outputs": [
        {
          "name": "stdout",
          "output_type": "stream",
          "text": [
            "Enter a number: 10\n",
            "10\n"
          ]
        }
      ]
    }
  ]
}