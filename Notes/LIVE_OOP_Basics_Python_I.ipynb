{
  "nbformat": 4,
  "nbformat_minor": 0,
  "metadata": {
    "celltoolbar": "Slideshow",
    "kernelspec": {
      "display_name": "Python 3",
      "language": "python",
      "name": "python3"
    },
    "language_info": {
      "codemirror_mode": {
        "name": "ipython",
        "version": 3
      },
      "file_extension": ".py",
      "mimetype": "text/x-python",
      "name": "python",
      "nbconvert_exporter": "python",
      "pygments_lexer": "ipython3",
      "version": "3.7.3"
    },
    "colab": {
      "provenance": []
    }
  },
  "cells": [
    {
      "cell_type": "markdown",
      "metadata": {
        "id": "VNTD_I6veOuk"
      },
      "source": [
        "# Procedural (C) vs OOP (C++/Java/Python)\n",
        "- Large software can be built in C. e.g: Linux Kernel\n",
        "- OOP: Easier to design, reuse components and build large software\n",
        "- SDE: should know OOP as they will be working in teams building large software\n",
        "- ML & DS roles: Should know the basics to use various modules and extend them when needed. \n",
        "- The true power of OOP and OOD can be undestood when deisgning a large piece of software like a library for plotting\n",
        "\n",
        "Pre-requisites: previous live-sessions in this series."
      ]
    },
    {
      "cell_type": "code",
      "metadata": {
        "id": "8nozn1XteOuu",
        "outputId": "36f647db-6725-47e7-c2c3-0687653994e5"
      },
      "source": [
        "import sys\n",
        "print (sys.version)"
      ],
      "execution_count": null,
      "outputs": [
        {
          "output_type": "stream",
          "text": [
            "3.7.3 (default, Mar 27 2019, 09:23:15) \n",
            "[Clang 10.0.1 (clang-1001.0.46.3)]\n"
          ],
          "name": "stdout"
        }
      ]
    },
    {
      "cell_type": "code",
      "metadata": {
        "id": "TZHSKGoleOuw"
      },
      "source": [
        "\n",
        "# NON-OOP (a.k.a Procedural) based implementation of a ShortURL System.\n",
        "\n",
        "import random\n",
        "import string\n",
        "\n",
        "d = dict();\n",
        "\n",
        "# given a long URL, get a short URL\n",
        "def getShortURL(longURL):\n",
        "    # length = random value in 6-10\n",
        "    l = random.randint(6,10);\n",
        "    \n",
        "    \n",
        "    # generate random characters into a string of length l\n",
        "    chars = string.ascii_lowercase\n",
        "    shortURL = ''.join(random.choice(chars) for i in range(l))\n",
        "    \n",
        "    \n",
        "    # check if this string is already present in dict d\n",
        "    if shortURL in d:\n",
        "        return getShortURL(longURL);\n",
        "    else:\n",
        "        d[shortURL] = longURL;\n",
        "        \n",
        "    \n",
        "    r = \"https://www.shortURL.com/\"+shortURL\n",
        "    return r;\n",
        "\n",
        "def getLongURL(shortURL):\n",
        "    \n",
        "    # extarct key from URL https://www.shortURL.com/mxzmuis ---> mxzmuis\n",
        "    k = shortURL[25:];\n",
        "    \n",
        "    \n",
        "    if k in d:\n",
        "        return d[k];\n",
        "    else:\n",
        "        return None;"
      ],
      "execution_count": null,
      "outputs": []
    },
    {
      "cell_type": "markdown",
      "metadata": {
        "id": "lGWiYpZXeOuw"
      },
      "source": [
        "#### Class: datatype \n",
        "#### Object: variable"
      ]
    },
    {
      "cell_type": "code",
      "metadata": {
        "id": "zAW62kCweOuw"
      },
      "source": [
        "# Class: group all variables/attributes and functions/methods into a single logical unit\n",
        "\n",
        "class ShortURL:\n",
        "    \n",
        "    def __init__(self): # constructor; not must, but, good to have;  initialize all attributes here\n",
        "        self.d=dict();\n",
        "\n",
        "    # given a long URL, get a short URL\n",
        "    def getShortURL(self, longURL): # first argument to all methods is \"self\" => this object\n",
        "        # length = random value in 6-10\n",
        "        l = random.randint(6,10);\n",
        "        \n",
        "\n",
        "        # generate random characters into a string of length l\n",
        "        chars = string.ascii_lowercase\n",
        "        shortURL = ''.join(random.choice(chars) for i in range(l))\n",
        "        \n",
        "\n",
        "        # check if this string is already present in dict d\n",
        "        if shortURL in self.d:\n",
        "            return getShortURL(longURL);\n",
        "        else:\n",
        "            self.d[shortURL] = longURL;\n",
        "\n",
        "        \n",
        "        r = \"https://www.shortURL.com/\"+shortURL\n",
        "        return r;\n",
        "\n",
        "    def getLongURL(self, shortURL):\n",
        "\n",
        "       # print(self.d); # print statemnt for debugging\n",
        "        \n",
        "        # extarct key from URL https://www.shortURL.com/mxzmuis ---> mxzmuis\n",
        "        k = shortURL[25:];\n",
        "        \n",
        "\n",
        "        if k in self.d:\n",
        "            return self.d[k];\n",
        "        else:\n",
        "            return None;\n"
      ],
      "execution_count": null,
      "outputs": []
    },
    {
      "cell_type": "code",
      "metadata": {
        "id": "FV_Js7j2eOux",
        "outputId": "f53dd5b7-8dd3-428b-c52d-358658002ea8"
      },
      "source": [
        "# Class: datatype/DS & Object: variable of a class\n",
        "s = ShortURL() # constructor being called; memory allocated.\n",
        "\n",
        "print(type(s))\n"
      ],
      "execution_count": null,
      "outputs": [
        {
          "output_type": "stream",
          "text": [
            "<class '__main__.ShortURL'>\n"
          ],
          "name": "stdout"
        }
      ]
    },
    {
      "cell_type": "markdown",
      "metadata": {
        "id": "li3AZKu9eOuy"
      },
      "source": [
        "What does this \"\\__main__\" mean?\n",
        "\n",
        "The script invoked directly is considered to be in the __main__ module. It can be imported and accessed the same way as any other module.\n",
        "\n",
        "\n",
        "#### Modules:\n",
        "[https://www.w3schools.com/python/python_modules.asp]\n",
        "\n",
        "Consider a module to be the same as a code library. A file containing a set of functions you want to include in your application."
      ]
    },
    {
      "cell_type": "code",
      "metadata": {
        "id": "oidhGriIeOuy",
        "outputId": "5df3095c-4cd3-4599-9f59-ca8a739393e3"
      },
      "source": [
        "print(s.shortURL(\"appliedaicourse\"))\n",
        "print(s.shortURL(\"gate.appliedcourse.com\"))"
      ],
      "execution_count": null,
      "outputs": [
        {
          "output_type": "error",
          "ename": "AttributeError",
          "evalue": "'ShortURL' object has no attribute 'shortURL'",
          "traceback": [
            "\u001b[0;31m---------------------------------------------------------------------------\u001b[0m",
            "\u001b[0;31mAttributeError\u001b[0m                            Traceback (most recent call last)",
            "\u001b[0;32m<ipython-input-52-84023b7d1bbb>\u001b[0m in \u001b[0;36m<module>\u001b[0;34m\u001b[0m\n\u001b[0;32m----> 1\u001b[0;31m \u001b[0mprint\u001b[0m\u001b[0;34m(\u001b[0m\u001b[0ms\u001b[0m\u001b[0;34m.\u001b[0m\u001b[0mshortURL\u001b[0m\u001b[0;34m(\u001b[0m\u001b[0;34m\"appliedaicourse\"\u001b[0m\u001b[0;34m)\u001b[0m\u001b[0;34m)\u001b[0m\u001b[0;34m\u001b[0m\u001b[0;34m\u001b[0m\u001b[0m\n\u001b[0m\u001b[1;32m      2\u001b[0m \u001b[0mprint\u001b[0m\u001b[0;34m(\u001b[0m\u001b[0ms\u001b[0m\u001b[0;34m.\u001b[0m\u001b[0mshortURL\u001b[0m\u001b[0;34m(\u001b[0m\u001b[0;34m\"gate.appliedcourse.com\"\u001b[0m\u001b[0;34m)\u001b[0m\u001b[0;34m)\u001b[0m\u001b[0;34m\u001b[0m\u001b[0;34m\u001b[0m\u001b[0m\n",
            "\u001b[0;31mAttributeError\u001b[0m: 'ShortURL' object has no attribute 'shortURL'"
          ]
        }
      ]
    },
    {
      "cell_type": "code",
      "metadata": {
        "id": "DEArVZwBeOuz",
        "outputId": "7a109e70-66e9-42bd-b12f-9dd52b8183f2"
      },
      "source": [
        "print(s.getShortURL(\"appliedaicourse.com\"))\n",
        "print(s.getShortURL(\"gate.appliedcourse.com\"))\n"
      ],
      "execution_count": null,
      "outputs": [
        {
          "output_type": "stream",
          "text": [
            "https://www.shortURL.com/alrpoy\n",
            "https://www.shortURL.com/dlfjxuxhff\n"
          ],
          "name": "stdout"
        }
      ]
    },
    {
      "cell_type": "code",
      "metadata": {
        "id": "3xeHkykYeOuz",
        "outputId": "cb8d911e-adb4-4456-d8b1-18f8622a7ba3"
      },
      "source": [
        "print(s.getLongURL(\"https://www.shortURL.com/alrpoy\"))\n"
      ],
      "execution_count": null,
      "outputs": [
        {
          "output_type": "stream",
          "text": [
            "appliedaicourse.com\n"
          ],
          "name": "stdout"
        }
      ]
    },
    {
      "cell_type": "code",
      "metadata": {
        "id": "8cAKyHsKeOu0",
        "outputId": "2966604f-668d-4adb-dedb-e421d926fbde"
      },
      "source": [
        "print(s.d)"
      ],
      "execution_count": null,
      "outputs": [
        {
          "output_type": "stream",
          "text": [
            "{'alrpoy': 'appliedaicourse.com', 'dlfjxuxhff': 'gate.appliedaicourse.com'}\n"
          ],
          "name": "stdout"
        }
      ]
    },
    {
      "cell_type": "code",
      "metadata": {
        "id": "VBuoiefteOu0",
        "outputId": "9d45962b-7e9c-4825-9771-7e6c4c61aa9f"
      },
      "source": [
        "s.d[\"interviewprep.appliedcourse.com\"] = \"abcdefgh\";\n",
        "\n",
        "print(s.d)"
      ],
      "execution_count": null,
      "outputs": [
        {
          "output_type": "stream",
          "text": [
            "{'alrpoy': 'appliedaicourse.com', 'dlfjxuxhff': 'gate.appliedaicourse.com', 'interviewprep.appliedcourse.com': 'abcdefgh'}\n"
          ],
          "name": "stdout"
        }
      ]
    },
    {
      "cell_type": "code",
      "metadata": {
        "id": "llGdIwnjeOu1",
        "outputId": "b3ac1e6b-fc61-47ed-cbd7-812c5a72482b"
      },
      "source": [
        "# No need to have any atributes or methods\n",
        "class EmptyClass:\n",
        "    pass\n",
        "\n",
        "e = EmptyClass();\n",
        "print(type(e))"
      ],
      "execution_count": null,
      "outputs": [
        {
          "output_type": "stream",
          "text": [
            "<class '__main__.EmptyClass'>\n"
          ],
          "name": "stdout"
        }
      ]
    },
    {
      "cell_type": "markdown",
      "metadata": {
        "id": "PJafEdcbeOu1"
      },
      "source": [
        "### There are lots of internals and boundary cases for which reading documentation is a good idea.\n",
        "- https://docs.python.org/3/tutorial/classes.html\n",
        "    \n",
        "#### We will focus more on applied aspects in the context of ML/AI."
      ]
    },
    {
      "cell_type": "code",
      "metadata": {
        "id": "Q2uCMJgeeOu1"
      },
      "source": [
        "# Class variables shared by all objects\n",
        "\n",
        "# Class: group all variables/attributes and functions/methods into a soingle logical unit\n",
        "\n",
        "class ShortURL1:\n",
        "    \n",
        "    URLPrefix = \"https://www.shortURL.com/\"; # class variable shared by all objects\n",
        "    \n",
        "    def __init__(self): # constructor; not must, but, good to have;  initialize all attributes here\n",
        "        self.d=dict();\n",
        "\n",
        "    # given a long URL, get a short URL\n",
        "    def getShortURL(self, longURL): # first argument to all methods is \"self\" => this object\n",
        "        # length = random value in 6-10\n",
        "        l = random.randint(6,10);\n",
        "        \n",
        "\n",
        "        # generate random characters into a string of length l\n",
        "        chars = string.ascii_lowercase\n",
        "        shortURL = ''.join(random.choice(chars) for i in range(l))\n",
        "        \n",
        "\n",
        "        # check if this string is already present in dict d\n",
        "        if shortURL in self.d:\n",
        "            return getShortURL(longURL);\n",
        "        else:\n",
        "            self.d[shortURL] = longURL;\n",
        "\n",
        "        \n",
        "        r = self.URLPrefix + shortURL\n",
        "        return r;\n",
        "\n",
        "    def getLongURL(self, shortURL):\n",
        "\n",
        "       # print(self.d); # print statemnt for debugging\n",
        "        \n",
        "        # extarct key from URL https://www.shortURL.com/mxzmuis ---> mxzmuis\n",
        "        k = shortURL[25:];\n",
        "        \n",
        "\n",
        "        if k in self.d:\n",
        "            return self.d[k];\n",
        "        else:\n",
        "            return None;\n"
      ],
      "execution_count": null,
      "outputs": []
    },
    {
      "cell_type": "code",
      "metadata": {
        "id": "4T6uO4LTeOu2",
        "outputId": "cac6d34a-22a1-486a-ba0d-8ad29eb35bfa"
      },
      "source": [
        "s1 = ShortURL1();\n",
        "\n",
        "print(s1.getShortURL(\"appliedaicourse.com\"))\n",
        "print(s1.getShortURL(\"gate.appliedaicourse.com\"))"
      ],
      "execution_count": null,
      "outputs": [
        {
          "output_type": "stream",
          "text": [
            "https://www.shortURL.com/bqrkdpum\n",
            "https://www.shortURL.com/jaxgluaeoh\n"
          ],
          "name": "stdout"
        }
      ]
    },
    {
      "cell_type": "code",
      "metadata": {
        "id": "cXSmQ2FGeOu2",
        "outputId": "75bd99a0-62a0-474a-fa91-c4a38d9b180a"
      },
      "source": [
        "print(s1.d)\n",
        "print(s1.URLPrefix)"
      ],
      "execution_count": null,
      "outputs": [
        {
          "output_type": "stream",
          "text": [
            "{'bqrkdpum': 'appliedaicourse.com', 'jaxgluaeoh': 'gate.appliedaicourse.com'}\n",
            "https://www.shortURL.com/\n"
          ],
          "name": "stdout"
        }
      ]
    },
    {
      "cell_type": "code",
      "metadata": {
        "id": "yEZ4i3OUeOu3",
        "outputId": "cca6710b-f7f5-4dd4-a838-4e3735224345"
      },
      "source": [
        "s1a = ShortURL1();\n",
        "print(s1a.URLPrefix);\n",
        "print(s1a.d)"
      ],
      "execution_count": null,
      "outputs": [
        {
          "output_type": "stream",
          "text": [
            "https://www.shortURL.com/\n",
            "{}\n"
          ],
          "name": "stdout"
        }
      ]
    },
    {
      "cell_type": "markdown",
      "metadata": {
        "id": "it1CFoyFeOu3"
      },
      "source": [
        "#### If you have learnt OOP in C++/Java, it is very easy to get confused with syntax and internals. Please beware"
      ]
    },
    {
      "cell_type": "code",
      "metadata": {
        "id": "wO36pq2peOu4"
      },
      "source": [
        "\n",
        "# \"Private Members\"\n",
        "\n",
        "# Class: group all variables/attributes and functions/methods into a soingle logical unit\n",
        "\n",
        "class ShortURL2:\n",
        "    \n",
        "    classVar = \"test\"; # Public => accesible directly from outside the class\n",
        "    \n",
        "    __URLPrefix = \"https://www.shortURL.com/\"; # \"Private\" memebers. Member => attribute or method\n",
        "    \n",
        "    def __init__(self): # constructor; not must, but, good to have;  initialize all attributes here\n",
        "        self.d=dict();\n",
        "\n",
        "    # given a long URL, get a short URL\n",
        "    def getShortURL(self, longURL): # first argument to all methods is \"self\" => this object\n",
        "        # length = random value in 6-10\n",
        "        l = random.randint(6,10);\n",
        "        \n",
        "\n",
        "        # generate random characters into a string of length l\n",
        "        chars = string.ascii_lowercase\n",
        "        shortURL = ''.join(random.choice(chars) for i in range(l))\n",
        "        \n",
        "\n",
        "        # check if this string is already present in dict d\n",
        "        if shortURL in self.d:\n",
        "            return getShortURL(longURL);\n",
        "        else:\n",
        "            self.d[shortURL] = longURL;\n",
        "\n",
        "        \n",
        "        r = self.__URLPrefix + shortURL\n",
        "        return r;\n",
        "\n",
        "    def getLongURL(self, shortURL):\n",
        "\n",
        "       # print(self.d); # print statemnt for debugging\n",
        "        \n",
        "        # extarct key from URL https://www.shortURL.com/mxzmuis ---> mxzmuis\n",
        "        k = shortURL[25:];\n",
        "        \n",
        "\n",
        "        if k in self.d:\n",
        "            return self.d[k];\n",
        "        else:\n",
        "            return None;\n"
      ],
      "execution_count": null,
      "outputs": []
    },
    {
      "cell_type": "code",
      "metadata": {
        "id": "jmJXDRbUeOu4",
        "outputId": "c7b2c5e7-ef20-4ad1-a7f2-901f09043eb4"
      },
      "source": [
        "s2 = ShortURL2();\n",
        "print(s2.classVar)\n",
        "print(s2.__URLPrefix)"
      ],
      "execution_count": null,
      "outputs": [
        {
          "output_type": "stream",
          "text": [
            "test\n"
          ],
          "name": "stdout"
        },
        {
          "output_type": "error",
          "ename": "AttributeError",
          "evalue": "'ShortURL2' object has no attribute '__URLPrefix'",
          "traceback": [
            "\u001b[0;31m---------------------------------------------------------------------------\u001b[0m",
            "\u001b[0;31mAttributeError\u001b[0m                            Traceback (most recent call last)",
            "\u001b[0;32m<ipython-input-90-4fd735b2fbbe>\u001b[0m in \u001b[0;36m<module>\u001b[0;34m\u001b[0m\n\u001b[1;32m      1\u001b[0m \u001b[0ms2\u001b[0m \u001b[0;34m=\u001b[0m \u001b[0mShortURL2\u001b[0m\u001b[0;34m(\u001b[0m\u001b[0;34m)\u001b[0m\u001b[0;34m;\u001b[0m\u001b[0;34m\u001b[0m\u001b[0;34m\u001b[0m\u001b[0m\n\u001b[1;32m      2\u001b[0m \u001b[0mprint\u001b[0m\u001b[0;34m(\u001b[0m\u001b[0ms2\u001b[0m\u001b[0;34m.\u001b[0m\u001b[0mclassVar\u001b[0m\u001b[0;34m)\u001b[0m\u001b[0;34m\u001b[0m\u001b[0;34m\u001b[0m\u001b[0m\n\u001b[0;32m----> 3\u001b[0;31m \u001b[0mprint\u001b[0m\u001b[0;34m(\u001b[0m\u001b[0ms2\u001b[0m\u001b[0;34m.\u001b[0m\u001b[0m__URLPrefix\u001b[0m\u001b[0;34m)\u001b[0m\u001b[0;34m\u001b[0m\u001b[0;34m\u001b[0m\u001b[0m\n\u001b[0m",
            "\u001b[0;31mAttributeError\u001b[0m: 'ShortURL2' object has no attribute '__URLPrefix'"
          ]
        }
      ]
    },
    {
      "cell_type": "markdown",
      "metadata": {
        "id": "IuRS0kf-eOu5"
      },
      "source": [
        "### Abstraction: [https://en.wikipedia.org/wiki/Abstraction_principle_(computer_programming)]\n",
        "- As a recommendation to the programmer, in its formulation by Benjamin C. Pierce in Types and Programming Languages (2002), the abstraction principle reads:\n",
        "“\tEach significant piece of functionality in a program should be implemented in just one place in the source code. Where similar functions are carried out by distinct pieces of code, it is generally beneficial to combine them into one by abstracting out the varying parts.\t”\n",
        "- General concept in porgramming: libraries, classes\n",
        "\n",
        "- \"Its main goal is to handle complexity by hiding unnecessary details from the user. That enables the user to implement more complex logic on top of the provided abstraction without understanding or even thinking about all the hidden complexity.\" [Source: https://stackify.com/oop-concept-abstraction/]\n",
        "\n"
      ]
    },
    {
      "cell_type": "markdown",
      "metadata": {
        "id": "Beyot40veOu5"
      },
      "source": [
        "### Encapsulation: [https://en.wikipedia.org/wiki/Encapsulation_(computer_programming)]\n",
        "In object-oriented programming languages, and other related fields, encapsulation refers to one of two related but distinct notions, and sometimes to the combination thereof:\n",
        "\n",
        "1.  A language mechanism for restricting direct access to some of the object's components.\n",
        "2. A language construct that facilitates the bundling of data with the methods (or other functions) operating on that data."
      ]
    },
    {
      "cell_type": "markdown",
      "metadata": {
        "id": "gr0cyOnseOu6"
      },
      "source": [
        "\n",
        "### Design a MyURLShortner built on top of ShortURLFinal (given in a module) with some changes\n",
        "- Change getShortURL to have both alphabets and numbers\n",
        "- Change the URLPrefix to my website (myurlshortner.com)\n",
        "\n",
        "\n"
      ]
    },
    {
      "cell_type": "code",
      "metadata": {
        "id": "DyVWRrpXeOu6"
      },
      "source": [
        "# Following is the final implementation of ShortURL in the library\n",
        "\n",
        "class ShortURLFinal:\n",
        "    \n",
        "    URLPrefix = \"https://www.shortURL.com/\"; # class-variable\n",
        "    \n",
        "    def __init__(self): # constructor; not must, but, good to have;  initialize all attributes here\n",
        "        self.d=dict();\n",
        "\n",
        "    # given a long URL, get a short URL\n",
        "    def getShortURL(self, longURL): # first argument to all methods is \"self\" => this object\n",
        "        # length = random value in 6-10\n",
        "        l = random.randint(6,10);\n",
        "        \n",
        "\n",
        "        # generate random characters into a string of length l\n",
        "        chars = string.ascii_lowercase\n",
        "        shortURL = ''.join(random.choice(chars) for i in range(l))\n",
        "        \n",
        "\n",
        "        # check if this string is already present in dict d\n",
        "        if shortURL in self.d:\n",
        "            return getShortURL(longURL);\n",
        "        else:\n",
        "            self.d[shortURL] = longURL;\n",
        "\n",
        "        \n",
        "        r = self.URLPrefix + shortURL\n",
        "        return r;\n",
        "\n",
        "    def getLongURL(self, shortURL):\n",
        "\n",
        "       # print(self.d); # print statemnt for debugging\n",
        "        \n",
        "        # extarct key from URL https://www.shortURL.com/mxzmuis ---> mxzmuis\n",
        "        k = shortURL[25:];\n",
        "        \n",
        "\n",
        "        if k in self.d:\n",
        "            return self.d[k];\n",
        "        else:\n",
        "            return None;\n"
      ],
      "execution_count": null,
      "outputs": []
    },
    {
      "cell_type": "code",
      "metadata": {
        "id": "IMO4lWBNeOu6"
      },
      "source": [
        "# Lets define MyURLShortner based on ShortURLFinal\n",
        "\n",
        "# Inheritence: baseclass, derived class [https://docs.python.org/3/tutorial/classes.html#inheritance]\n",
        "class MyURLShortner(ShortURLFinal):\n",
        "    URLPrefix = \"www.myurlshortner.com/\" # overriding as same name as base-class\n",
        "    \n",
        "    \n",
        "    # given a long URL, get a short URL\n",
        "    def getShortURL(self, longURL): # overriding as same name as base-class, use both digits and lowercase\n",
        "        # length = random value in 6-10\n",
        "        l = random.randint(6,10);\n",
        "        \n",
        "\n",
        "        # generate random characters into a string of length l\n",
        "        chars = string.ascii_lowercase + string.digits # both digits and lowercase\n",
        "        shortURL = ''.join(random.choice(chars) for i in range(l))\n",
        "        \n",
        "\n",
        "        # check if this string is already present in dict d\n",
        "        if shortURL in self.d:\n",
        "            return getShortURL(longURL);\n",
        "        else:\n",
        "            self.d[shortURL] = longURL;\n",
        "\n",
        "        \n",
        "        r = self.URLPrefix + shortURL\n",
        "        return r;\n",
        "    \n",
        "    # getLongURL and dict \"d\" not changed"
      ],
      "execution_count": null,
      "outputs": []
    },
    {
      "cell_type": "code",
      "metadata": {
        "id": "ZYWQuyaWeOu7",
        "outputId": "a9e19b62-1c41-45fe-9ae0-5a3a42abe040"
      },
      "source": [
        "m1 = MyURLShortner(); # base-class constructor is executed\n",
        "\n",
        "print(m1.d)\n"
      ],
      "execution_count": null,
      "outputs": [
        {
          "output_type": "stream",
          "text": [
            "{}\n"
          ],
          "name": "stdout"
        }
      ]
    },
    {
      "cell_type": "code",
      "metadata": {
        "id": "0596oF2leOu7",
        "outputId": "e6819734-49b8-4269-9139-89b8ba530f38"
      },
      "source": [
        "print(m1.getShortURL(\"amazon.com\"))\n",
        "print(m1.getShortURL(\"google.com\"))"
      ],
      "execution_count": null,
      "outputs": [
        {
          "output_type": "stream",
          "text": [
            "www.myurlshortner.com/mt2e9h\n",
            "www.myurlshortner.com/ymnsyufq3\n"
          ],
          "name": "stdout"
        }
      ]
    },
    {
      "cell_type": "code",
      "metadata": {
        "id": "0lMxO93GeOu7",
        "outputId": "405c6ff8-419c-4828-85e7-c6b63bb87a21"
      },
      "source": [
        "print(m1.d)"
      ],
      "execution_count": null,
      "outputs": [
        {
          "output_type": "stream",
          "text": [
            "{'mt2e9h': 'amazon.com', 'ymnsyufq3': 'google.com'}\n"
          ],
          "name": "stdout"
        }
      ]
    },
    {
      "cell_type": "code",
      "metadata": {
        "id": "g8I9gIFkeOu8",
        "outputId": "c51bf30b-d2e3-4fcd-c632-551331b938ee"
      },
      "source": [
        "class A:\n",
        "    def __init__(self, i):\n",
        "        self.var = i;\n",
        "        \n",
        "    def printVar(self):\n",
        "        print(self.var)\n",
        "    \n",
        "    \n",
        "a = A(10);\n",
        "a.printVar()\n",
        "\n",
        "a = A(20);\n",
        "a.printVar()\n",
        "\n",
        "\n",
        "    "
      ],
      "execution_count": null,
      "outputs": [
        {
          "output_type": "stream",
          "text": [
            "10\n",
            "20\n"
          ],
          "name": "stdout"
        }
      ]
    },
    {
      "cell_type": "code",
      "metadata": {
        "id": "49fvQrAOeOu8",
        "outputId": "e7527410-32e4-4f2e-daff-9b2cb6ea81ae"
      },
      "source": [
        "a =10;\n",
        "\n",
        "print(type(a))"
      ],
      "execution_count": null,
      "outputs": [
        {
          "output_type": "stream",
          "text": [
            "<class 'int'>\n"
          ],
          "name": "stdout"
        }
      ]
    },
    {
      "cell_type": "code",
      "metadata": {
        "id": "mzJ_ve3aeOu8"
      },
      "source": [
        "a =20;\n"
      ],
      "execution_count": null,
      "outputs": []
    },
    {
      "cell_type": "code",
      "metadata": {
        "id": "Cafyg1k6eOu8",
        "outputId": "bac1588d-648a-4572-ca31-6a130ae71d62"
      },
      "source": [
        "# example from geometry: [Source: https://overiq.com/python-101/inheritance-and-polymorphism-in-python/]\n",
        "import math\n",
        " \n",
        "class Shape:\n",
        " \n",
        "    def __init__(self, color='black', filled=False):\n",
        "        self.__color = color\n",
        "        self.__filled = filled\n",
        " \n",
        "    def get_color(self):\n",
        "        return self.__color\n",
        " \n",
        "    def set_color(self, color):\n",
        "        self.__color = color\n",
        " \n",
        "    def get_filled(self):\n",
        "        return self.__filled\n",
        " \n",
        "    def set_filled(self, filled):\n",
        "        self.__filled = filled\n",
        " \n",
        " \n",
        "class Rectangle(Shape):\n",
        " \n",
        "    def __init__(self, length, breadth):\n",
        "        super().__init__()\n",
        "        self.__length = length\n",
        "        self.__breadth = breadth\n",
        " \n",
        "    def get_length(self):\n",
        "        return self.__length\n",
        " \n",
        "    def set_length(self, length):\n",
        "        self.__length = length\n",
        " \n",
        "    def get_breadth(self):\n",
        "        return self.__breadth\n",
        " \n",
        "    def set_breadth(self, breadth):\n",
        "        self.__breadth = breadth\n",
        " \n",
        "    def get_area(self):\n",
        "        return self.__length * self.__breadth\n",
        " \n",
        "    def get_perimeter(self):\n",
        "        return 2 * (self.__length + self.__breadth)\n",
        " \n",
        " \n",
        "class Circle(Shape):\n",
        "    def __init__(self, radius):\n",
        "        super().__init__()\n",
        "        self.__radius = radius\n",
        " \n",
        "    def get_radius(self):\n",
        "        return self.__radius\n",
        " \n",
        "    def set_radius(self, radius):\n",
        "        self.__radius = radius\n",
        " \n",
        "    def get_area(self):\n",
        "        return math.pi * self.__radius ** 2\n",
        " \n",
        "    def get_perimeter(self):\n",
        "        return 2 * math.pi * self.__radius\n",
        " \n",
        " \n",
        "r1 = Rectangle(10.5, 2.5)\n",
        " \n",
        "print(\"Area of rectangle r1:\", r1.get_area())\n",
        "print(\"Perimeter of rectangle r1:\", r1.get_perimeter())\n",
        "print(\"Color of rectangle r1:\", r1.get_color())\n",
        "print(\"Is rectangle r1 filled ? \", r1.get_filled())\n",
        "r1.set_filled(True)\n",
        "print(\"Is rectangle r1 filled ? \", r1.get_filled())\n",
        "r1.set_color(\"orange\")\n",
        "print(\"Color of rectangle r1:\", r1.get_color())\n",
        " \n",
        "c1 = Circle(12)\n",
        " \n",
        "print(\"\\nArea of circle c1:\", format(c1.get_area(), \"0.2f\"))\n",
        "print(\"Perimeter of circle c1:\", format(c1.get_perimeter(), \"0.2f\"))\n",
        "print(\"Color of circle c1:\", c1.get_color())\n",
        "print(\"Is circle c1 filled ? \", c1.get_filled())\n",
        "c1.set_filled(True)\n",
        "print(\"Is circle c1 filled ? \", c1.get_filled())\n",
        "c1.set_color(\"blue\")\n",
        "print(\"Color of circle c1:\", c1.get_color())"
      ],
      "execution_count": null,
      "outputs": [
        {
          "output_type": "stream",
          "text": [
            "Area of rectangle r1: 26.25\n",
            "Perimeter of rectangle r1: 26.0\n",
            "Color of rectangle r1: black\n",
            "Is rectangle r1 filled ?  False\n",
            "Is rectangle r1 filled ?  True\n",
            "Color of rectangle r1: orange\n",
            "\n",
            "Area of circle c1: 452.39\n",
            "Perimeter of circle c1: 75.40\n",
            "Color of circle c1: black\n",
            "Is circle c1 filled ?  False\n",
            "Is circle c1 filled ?  True\n",
            "Color of circle c1: blue\n"
          ],
          "name": "stdout"
        }
      ]
    },
    {
      "cell_type": "code",
      "metadata": {
        "id": "wzI60hyBeOu9"
      },
      "source": [],
      "execution_count": null,
      "outputs": []
    },
    {
      "cell_type": "code",
      "metadata": {
        "id": "gfQ9z5CZeOu9"
      },
      "source": [
        "### object is the base class for all classes in Python\n",
        " \n",
        "class MyClass(object): # object is the base-class by default and implicitly.\n",
        "    pass\n",
        "\n",
        "\n",
        "# __new__() : creates a new object and calls the __init__()\n",
        "# __init__() : default constructor\n",
        "# __str__() : write code to convert object into string for printing."
      ],
      "execution_count": null,
      "outputs": []
    },
    {
      "cell_type": "code",
      "metadata": {
        "id": "yeRcqY7QeOu_",
        "outputId": "3f91906d-fe31-4816-8bd9-d87800b5169b"
      },
      "source": [
        "a = [1,2,3,4];\n",
        "print(type(a))\n",
        "\n",
        "print(a)"
      ],
      "execution_count": null,
      "outputs": [
        {
          "output_type": "stream",
          "text": [
            "<class 'list'>\n",
            "[1, 2, 3, 4]\n"
          ],
          "name": "stdout"
        }
      ]
    },
    {
      "cell_type": "code",
      "metadata": {
        "id": "0nxUTWq1eOu_",
        "outputId": "c910daef-996a-4765-d225-ecdda686fcc6"
      },
      "source": [
        "class ClassWithStr(): #default object is the base class\n",
        "    def __str__(self):\n",
        "        return \"any string representation of the object of this class that we want\"\n",
        "    \n",
        "c1 = ClassWithStr();\n",
        "print(c1)"
      ],
      "execution_count": null,
      "outputs": [
        {
          "output_type": "stream",
          "text": [
            "any string representation of the object of this class that we want\n"
          ],
          "name": "stdout"
        }
      ]
    },
    {
      "cell_type": "markdown",
      "metadata": {
        "id": "QyT6nQSzeOvA"
      },
      "source": [
        "### Example: https://matplotlib.org/3.1.1/api/axis_api.html\n",
        "\n"
      ]
    },
    {
      "cell_type": "code",
      "metadata": {
        "id": "ML8Xi1yoeOvA"
      },
      "source": [],
      "execution_count": null,
      "outputs": []
    }
  ]
}